{
 "cells": [
  {
   "cell_type": "code",
   "execution_count": 12,
   "metadata": {},
   "outputs": [],
   "source": [
    "# PySMT - for SAT solving\n",
    "import pysmt.shortcuts as pysmtsol # Symbol, And, Not, Xor, is_sat\n"
   ]
  },
  {
   "cell_type": "code",
   "execution_count": 13,
   "metadata": {},
   "outputs": [],
   "source": [
    "# PyEDA - for circuit benchmark creation and cnf generation \n",
    "import pyeda\n",
    "import pyeda.boolalg.expr as eda # exprvar, Or, And, Xor, Not, expr2dimacscnf"
   ]
  },
  {
   "cell_type": "code",
   "execution_count": 74,
   "metadata": {},
   "outputs": [],
   "source": [
    "from pysmt.smtlib.parser import open_\n",
    "from pysmt.shortcuts import FreshSymbol, Symbol\n",
    "\n",
    "\n",
    "def read_dimacs(fname):\n",
    "    \"\"\"Read a DIMACS CNF file from the given file.\n",
    "\n",
    "    Returns a tuple: (vars_cnt, clauses, comments)\n",
    "    \"\"\"\n",
    "    prob_type, vars_cnt, clauses_cnt = None, None, None\n",
    "    max_var = 0\n",
    "    comments = []\n",
    "    clauses = []\n",
    "\n",
    "    with open_(fname) as fin:\n",
    "        for line in fin:\n",
    "            if line[0] == \"c\":\n",
    "                comments.append(line)\n",
    "            elif line[0] == \"p\":\n",
    "                _, prob_type, vars_cnt, clauses_cnt = line.split(\" \")\n",
    "                prob_type = prob_type.strip()\n",
    "                if prob_type != \"cnf\":\n",
    "                    raise IOError(\"File does not contain a cnf.\")\n",
    "                vars_cnt = int(vars_cnt.strip())\n",
    "                clauses_cnt = int(clauses_cnt)\n",
    "                break\n",
    "\n",
    "        for line in fin:\n",
    "            if line[0] == \"c\":\n",
    "                comments.append(line)\n",
    "            else:\n",
    "                # TODO: More robust parsing of clauses\n",
    "                cl = line.strip().split(\" \")\n",
    "                assert cl[-1].strip() == \"0\", cl\n",
    "                clause = [int(lit) for lit in cl[:-1]]\n",
    "                max_var = max(max_var, max(abs(lit) for lit in clause))\n",
    "                assert not any(lit == 0 for lit in clause), clause\n",
    "                clauses.append(clause)\n",
    "\n",
    "    # Validation\n",
    "    if clauses_cnt != len(clauses):\n",
    "        raise IOError(\"Mismatch between declared clauses (%d) \" % clauses_cnt +\n",
    "                      \"and actual clauses (%d) in DIMACS file.\" % len(clauses))\n",
    "    if max_var > vars_cnt:\n",
    "        raise IOError(\"Mismatch between declared variables (%d) \" % vars_cnt +\n",
    "                      \"and actual variables (%d) in DIMACS file.\" % max_var)\n",
    "\n",
    "    return vars_cnt, clauses, comments\n",
    "\n",
    "\n",
    "def dimacs_to_pysmt(vars_cnt, clauses, comments):\n",
    "    \"\"\"Convert a DIMACS structure into a pySMT formula.\n",
    "\n",
    "    Returns (formula, symbol_table). The symbol_table contains a\n",
    "    mapping from pySMT symbol to DIMACS var_idx.\n",
    "\n",
    "    \"\"\"\n",
    "    st = {}\n",
    "    rev_st = {}\n",
    "    for i in range(1, vars_cnt+1):\n",
    "        # s = FreshSymbol(template=(\"_dimacs_%d\"%i))\n",
    "        s = Symbol(name=(\"_dimacs_%d\"%i))\n",
    "        st[i] = s\n",
    "        st[-i] = pysmtsol.Not(s)\n",
    "        rev_st[s] = i\n",
    "    res = pysmtsol.And(pysmtsol.Or(st[lit] for lit in clause) \\\n",
    "              for clause in clauses)\n",
    "    return res, rev_st"
   ]
  },
  {
   "cell_type": "code",
   "execution_count": 75,
   "metadata": {},
   "outputs": [],
   "source": [
    "def read_dimacs_bench(circuit, benchname):\n",
    "    vars_cnt, clauses, comments = read_dimacs(f'cnf_bench/{circuit}/{benchname}.cnf')\n",
    "    cir, rev_st = dimacs_to_pysmt(vars_cnt, clauses, comments)\n",
    "    print(\"read dimacs :\", cir)\n",
    "    print(\"symbol table: \", rev_st)\n",
    "    return cir"
   ]
  },
  {
   "cell_type": "code",
   "execution_count": 76,
   "metadata": {},
   "outputs": [],
   "source": [
    "def create_miter(impl_cir, spec_cir):\n",
    "    miter = pysmtsol.Xor(impl_cir, spec_cir)\n",
    "    return miter"
   ]
  },
  {
   "cell_type": "code",
   "execution_count": 77,
   "metadata": {},
   "outputs": [],
   "source": [
    "def check_sat(miter):\n",
    "    sat_res = pysmtsol.is_sat(miter)\n",
    "    return sat_res"
   ]
  },
  {
   "cell_type": "code",
   "execution_count": 78,
   "metadata": {},
   "outputs": [],
   "source": [
    "def create_intermediate_miters(circuit, out1, out2):\n",
    "    impl_cir = read_dimacs_bench(circuit, out1)\n",
    "    spec_cir = read_dimacs_bench(circuit, out2)\n",
    "    miter_cir = create_miter(impl_cir, spec_cir)\n",
    "    return miter_cir\n",
    "\n",
    "    \n",
    "def equivalence_check(circuit, bench1, bench2, out):\n",
    "    print(\"bench1 : \", bench1, \"  bench2 :\", bench2)\n",
    "    miter_lst = [create_intermediate_miters(circuit, bench1[i], bench2[i]) for i in range(out)]\n",
    "    print(\"miter_out: \", miter_lst)\n",
    "    miter_or = pysmtsol.Or(miter_lst)    \n",
    "\n",
    "    print(\"miter : \", miter_or)\n",
    "\n",
    "    sat_res = check_sat(miter_or)\n",
    "    print(\"sat_res: \", sat_res)\n",
    "    if sat_res: print(f\"{bench1} and {bench2} are SAT --> UNEQUAL CIRCUITS\")\n",
    "    else: print(f\"{bench1} and {bench2} are UNSAT --> EQUIVALENT CIRCUITS\")\n",
    "    return sat_res"
   ]
  },
  {
   "cell_type": "code",
   "execution_count": 80,
   "metadata": {},
   "outputs": [
    {
     "name": "stdout",
     "output_type": "stream",
     "text": [
      "bench1 :  ['sum1']   bench2 : ['cout2']\n",
      "read dimacs : ((_dimacs_1 | _dimacs_2 | _dimacs_3) & (_dimacs_2 | (! _dimacs_3) | (! _dimacs_1)) & (_dimacs_1 | (! _dimacs_3) | (! _dimacs_2)) & (_dimacs_3 | (! _dimacs_1) | (! _dimacs_2)))\n",
      "symbol table:  {_dimacs_1: 1, _dimacs_2: 2, _dimacs_3: 3}\n",
      "read dimacs : ((_dimacs_1 | _dimacs_3) & (_dimacs_2 | _dimacs_3) & (_dimacs_1 | _dimacs_2))\n",
      "symbol table:  {_dimacs_1: 1, _dimacs_2: 2, _dimacs_3: 3}\n",
      "miter_out:  [(! (((_dimacs_1 | _dimacs_2 | _dimacs_3) & (_dimacs_2 | (! ...) | (! ...)) & (_dimacs_1 | (! ...) | (! ...)) & (_dimacs_3 | (! ...) | (! ...))) <-> ((_dimacs_1 | _dimacs_3) & (_dimacs_2 | _dimacs_3) & (_dimacs_1 | _dimacs_2))))]\n",
      "miter :  (! (((_dimacs_1 | _dimacs_2 | _dimacs_3) & (_dimacs_2 | (! ...) | (! ...)) & (_dimacs_1 | (! ...) | (! ...)) & (_dimacs_3 | (! ...) | (! ...))) <-> ((_dimacs_1 | _dimacs_3) & (_dimacs_2 | _dimacs_3) & (_dimacs_1 | _dimacs_2))))\n",
      "sat_res:  True\n",
      "['sum1'] and ['cout2'] are SAT --> UNEQUAL CIRCUITS\n"
     ]
    }
   ],
   "source": [
    "circuit = \"fullAdder\"\n",
    "circuit1 = [\"sum1\"]\n",
    "circuit2 = [\"cout2\"]\n",
    "out = 1\n",
    "res = equivalence_check(circuit, circuit1, circuit2, out)\n",
    " \n"
   ]
  },
  {
   "cell_type": "code",
   "execution_count": 81,
   "metadata": {},
   "outputs": [],
   "source": [
    "def circuit2dimacs(bool_formula):\n",
    "    ex = bool_formula.to_cnf()\n",
    "    exp, dimacs_bench = eda.expr2dimacscnf(ex)\n",
    "    print(\"dimacs : \", dimacs_bench)\n",
    "    return dimacs_bench\n",
    "\n",
    "def write_dimacs(dimacs_bench, circuit, benchname):\n",
    "    f = open(f\"cnf_bench/{circuit}/{benchname}.cnf\", \"w\")\n",
    "    f.write(str(dimacs_bench))\n",
    "    f.close()\n",
    "\n",
    "def write_circuit(bool_formulae, circuit, benchnames):\n",
    "    for i,formula in enumerate(bool_formulae):\n",
    "        dimacs_ = circuit2dimacs(formula)\n",
    "        write_dimacs(dimacs_, circuit, benchnames[i])\n",
    "        \n"
   ]
  },
  {
   "cell_type": "code",
   "execution_count": 83,
   "metadata": {},
   "outputs": [
    {
     "name": "stdout",
     "output_type": "stream",
     "text": [
      "dimacs :  p cnf 3 4\n",
      "1 2 3 0\n",
      "2 -3 -1 0\n",
      "1 -3 -2 0\n",
      "3 -1 -2 0\n",
      "dimacs :  p cnf 3 3\n",
      "1 3 0\n",
      "2 3 0\n",
      "1 2 0\n",
      "dimacs :  p cnf 3 4\n",
      "1 2 3 0\n",
      "2 -3 -1 0\n",
      "1 -3 -2 0\n",
      "3 -1 -2 0\n",
      "dimacs :  p cnf 3 3\n",
      "1 3 0\n",
      "2 3 0\n",
      "1 2 0\n",
      "bench1 :  ['sum1', 'cout1']   bench2 : ['cout2', 'sum2']\n",
      "read dimacs : ((_dimacs_1 | _dimacs_2 | _dimacs_3) & (_dimacs_2 | (! _dimacs_3) | (! _dimacs_1)) & (_dimacs_1 | (! _dimacs_3) | (! _dimacs_2)) & (_dimacs_3 | (! _dimacs_1) | (! _dimacs_2)))\n",
      "symbol table:  {_dimacs_1: 1, _dimacs_2: 2, _dimacs_3: 3}\n",
      "read dimacs : ((_dimacs_1 | _dimacs_3) & (_dimacs_2 | _dimacs_3) & (_dimacs_1 | _dimacs_2))\n",
      "symbol table:  {_dimacs_1: 1, _dimacs_2: 2, _dimacs_3: 3}\n",
      "read dimacs : ((_dimacs_1 | _dimacs_3) & (_dimacs_2 | _dimacs_3) & (_dimacs_1 | _dimacs_2))\n",
      "symbol table:  {_dimacs_1: 1, _dimacs_2: 2, _dimacs_3: 3}\n",
      "read dimacs : ((_dimacs_1 | _dimacs_2 | _dimacs_3) & (_dimacs_2 | (! _dimacs_3) | (! _dimacs_1)) & (_dimacs_1 | (! _dimacs_3) | (! _dimacs_2)) & (_dimacs_3 | (! _dimacs_1) | (! _dimacs_2)))\n",
      "symbol table:  {_dimacs_1: 1, _dimacs_2: 2, _dimacs_3: 3}\n",
      "miter_out:  [(! (((_dimacs_1 | _dimacs_2 | _dimacs_3) & (_dimacs_2 | (! ...) | (! ...)) & (_dimacs_1 | (! ...) | (! ...)) & (_dimacs_3 | (! ...) | (! ...))) <-> ((_dimacs_1 | _dimacs_3) & (_dimacs_2 | _dimacs_3) & (_dimacs_1 | _dimacs_2)))), (! (((_dimacs_1 | _dimacs_3) & (_dimacs_2 | _dimacs_3) & (_dimacs_1 | _dimacs_2)) <-> ((_dimacs_1 | _dimacs_2 | _dimacs_3) & (_dimacs_2 | (! ...) | (! ...)) & (_dimacs_1 | (! ...) | (! ...)) & (_dimacs_3 | (! ...) | (! ...)))))]\n",
      "miter :  ((! (((... | ... | ...) & (... | ... | ...) & (... | ... | ...) & (... | ... | ...)) <-> ((... | ...) & (... | ...) & (... | ...)))) | (! (((... | ...) & (... | ...) & (... | ...)) <-> ((... | ... | ...) & (... | ... | ...) & (... | ... | ...) & (... | ... | ...)))))\n",
      "sat_res:  True\n",
      "['sum1', 'cout1'] and ['cout2', 'sum2'] are SAT --> UNEQUAL CIRCUITS\n"
     ]
    }
   ],
   "source": [
    "## Adder\n",
    "circuit = \"fullAdder\"\n",
    "a, b, ci = map(eda.exprvar, \"a b ci\".split())\n",
    "\n",
    "# Circuit 1: \n",
    "sum1 =  eda.Xor('a', 'b', 'ci')\n",
    "cout1 = eda.Or(eda.And('a', 'b'), eda.And('a', 'ci'), eda.And('b', 'ci'))\n",
    "\n",
    "\n",
    "sum2 = ~a & ~b & ci | ~a & b & ~ci | a & ~b & ~ci | a & b & ci\n",
    "cout2 = a & b | a & ci | b & ci\n",
    "\n",
    "write_circuit([sum1, cout1, sum2, cout2], circuit, [\"sum1\",\"cout1\",\"sum2\",\"cout2\"])\n",
    "\n",
    "## Equivalence check adder\n",
    "circuit1 = [\"sum1\",\"cout1\"]\n",
    "circuit2 = [\"cout2\", \"sum2\"]\n",
    "out = 2\n",
    "res = equivalence_check(circuit, circuit1, circuit2, out)"
   ]
  },
  {
   "cell_type": "code",
   "execution_count": null,
   "metadata": {},
   "outputs": [],
   "source": []
  },
  {
   "cell_type": "code",
   "execution_count": null,
   "metadata": {},
   "outputs": [],
   "source": []
  },
  {
   "cell_type": "code",
   "execution_count": 29,
   "metadata": {},
   "outputs": [],
   "source": [
    "a, b, c = map(eda.exprvar, 'abc')\n",
    "f1 = eda.Or(eda.And(~a, ~b, ~c), eda.And(~a, ~b, c), eda.And(a, ~b, c), eda.And(a, b, c), eda.And(a, b, ~c))"
   ]
  },
  {
   "cell_type": "code",
   "execution_count": 30,
   "metadata": {},
   "outputs": [],
   "source": [
    "d = circuit2dimacs(f1)\n",
    "write_dimacs(\"test5.cnf\", d)"
   ]
  },
  {
   "cell_type": "code",
   "execution_count": 5,
   "metadata": {},
   "outputs": [],
   "source": [
    "a, b, c = map(exprvar, 'abc')\n",
    "f1 = Or(And(~a, ~b, ~c), And(~a, ~b, c), And(a, ~b, c), And(a, b, c), And(a, b, ~c))\n",
    "ex = f1.to_cnf()\n",
    "exp, dimacs = expr2dimacscnf(ex)\n",
    "print(dimacs)\n",
    "f2 = Or(And(~a, ~b, c), And(a, ~b, c), And(a, b, c), And(a, b, ~c))\n",
    "ex = f2.to_cnf()\n",
    "exp, dimacs = expr2dimacscnf(ex)\n",
    "print(dimacs)"
   ]
  },
  {
   "cell_type": "code",
   "execution_count": null,
   "metadata": {},
   "outputs": [],
   "source": [
    "# vars_cnt, clauses, comments = read_dimacs('cnf_bench/test1.cnf')\n",
    "\n",
    "# res, rev_st = dimacs.dimacs_to_pysmt(vars_cnt, clauses, comments)\n",
    "# # varA = Symbol(\"A\")\n",
    "# f = Xor(res, res)\n",
    "\n",
    "# sat_res = is_sat(f)\n",
    "# # assert sat_res # SAT\n",
    "# print(\"dimacs := %s is SAT? %s\" % (res, sat_res))\n",
    "# print(\"if UNSAT, given circuits are equal\")\n",
    "# # assert not sat_res # UNSAT"
   ]
  },
  {
   "cell_type": "code",
   "execution_count": null,
   "metadata": {},
   "outputs": [],
   "source": []
  },
  {
   "cell_type": "code",
   "execution_count": null,
   "metadata": {},
   "outputs": [],
   "source": []
  },
  {
   "cell_type": "code",
   "execution_count": null,
   "metadata": {},
   "outputs": [],
   "source": []
  },
  {
   "cell_type": "code",
   "execution_count": null,
   "metadata": {},
   "outputs": [],
   "source": []
  },
  {
   "cell_type": "code",
   "execution_count": null,
   "metadata": {},
   "outputs": [],
   "source": []
  }
 ],
 "metadata": {
  "interpreter": {
   "hash": "31f2aee4e71d21fbe5cf8b01ff0e069b9275f58929596ceb00d14d90e3e16cd6"
  },
  "kernelspec": {
   "display_name": "Python 3.8.10 64-bit",
   "language": "python",
   "name": "python3"
  },
  "language_info": {
   "codemirror_mode": {
    "name": "ipython",
    "version": 3
   },
   "file_extension": ".py",
   "mimetype": "text/x-python",
   "name": "python",
   "nbconvert_exporter": "python",
   "pygments_lexer": "ipython3",
   "version": "3.8.10"
  },
  "orig_nbformat": 4
 },
 "nbformat": 4,
 "nbformat_minor": 2
}
