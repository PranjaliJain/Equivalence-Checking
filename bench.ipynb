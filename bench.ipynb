{
 "cells": [
  {
   "cell_type": "code",
   "execution_count": 1,
   "metadata": {},
   "outputs": [],
   "source": [
    "# PySMT - for SAT solving\n",
    "import pysmt.shortcuts as pysmtsol # Symbol, And, Not, Xor, is_sat\n"
   ]
  },
  {
   "cell_type": "code",
   "execution_count": 2,
   "metadata": {},
   "outputs": [],
   "source": [
    "# PyEDA - for circuit benchmark creation and cnf generation \n",
    "import pyeda\n",
    "import pyeda.boolalg.expr as eda # exprvar, Or, And, Xor, Not, expr2dimacscnf"
   ]
  },
  {
   "cell_type": "code",
   "execution_count": 3,
   "metadata": {},
   "outputs": [],
   "source": [
    "from pysmt.smtlib.parser import open_\n",
    "from pysmt.shortcuts import FreshSymbol, Symbol\n",
    "\n",
    "\n",
    "def read_dimacs(fname):\n",
    "    \"\"\"Read a DIMACS CNF file from the given file.\n",
    "\n",
    "    Returns a tuple: (vars_cnt, clauses, comments)\n",
    "    \"\"\"\n",
    "    prob_type, vars_cnt, clauses_cnt = None, None, None\n",
    "    max_var = 0\n",
    "    comments = []\n",
    "    clauses = []\n",
    "\n",
    "    with open_(fname) as fin:\n",
    "        for line in fin:\n",
    "            if line[0] == \"c\":\n",
    "                comments.append(line)\n",
    "            elif line[0] == \"p\":\n",
    "                _, prob_type, vars_cnt, clauses_cnt = line.split(\" \")\n",
    "                prob_type = prob_type.strip()\n",
    "                if prob_type != \"cnf\":\n",
    "                    raise IOError(\"File does not contain a cnf.\")\n",
    "                vars_cnt = int(vars_cnt.strip())\n",
    "                clauses_cnt = int(clauses_cnt)\n",
    "                break\n",
    "\n",
    "        for line in fin:\n",
    "            if line[0] == \"c\":\n",
    "                comments.append(line)\n",
    "            else:\n",
    "                # TODO: More robust parsing of clauses\n",
    "                cl = line.strip().split(\" \")\n",
    "                assert cl[-1].strip() == \"0\", cl\n",
    "                clause = [int(lit) for lit in cl[:-1]]\n",
    "                max_var = max(max_var, max(abs(lit) for lit in clause))\n",
    "                assert not any(lit == 0 for lit in clause), clause\n",
    "                clauses.append(clause)\n",
    "\n",
    "    # Validation\n",
    "    if clauses_cnt != len(clauses):\n",
    "        raise IOError(\"Mismatch between declared clauses (%d) \" % clauses_cnt +\n",
    "                      \"and actual clauses (%d) in DIMACS file.\" % len(clauses))\n",
    "    if max_var > vars_cnt:\n",
    "        raise IOError(\"Mismatch between declared variables (%d) \" % vars_cnt +\n",
    "                      \"and actual variables (%d) in DIMACS file.\" % max_var)\n",
    "\n",
    "    return vars_cnt, clauses, comments\n",
    "\n",
    "\n",
    "def dimacs_to_pysmt(vars_cnt, clauses, comments):\n",
    "    \"\"\"Convert a DIMACS structure into a pySMT formula.\n",
    "\n",
    "    Returns (formula, symbol_table). The symbol_table contains a\n",
    "    mapping from pySMT symbol to DIMACS var_idx.\n",
    "\n",
    "    \"\"\"\n",
    "    st = {}\n",
    "    rev_st = {}\n",
    "    for i in range(1, vars_cnt+1):\n",
    "        # s = FreshSymbol(template=(\"_dimacs_%d\"%i))\n",
    "        s = Symbol(name=(\"_dimacs_%d\"%i))\n",
    "        st[i] = s\n",
    "        st[-i] = pysmtsol.Not(s)\n",
    "        rev_st[s] = i\n",
    "    res = pysmtsol.And(pysmtsol.Or(st[lit] for lit in clause) \\\n",
    "              for clause in clauses)\n",
    "    return res, rev_st"
   ]
  },
  {
   "cell_type": "code",
   "execution_count": 4,
   "metadata": {},
   "outputs": [],
   "source": [
    "def read_dimacs_bench(circuit, benchname):\n",
    "    vars_cnt, clauses, comments = read_dimacs(f'cnf_bench/{circuit}/{benchname}.cnf')\n",
    "    cir, rev_st = dimacs_to_pysmt(vars_cnt, clauses, comments)\n",
    "    # print(\"read dimacs :\", cir)\n",
    "    # print(\"symbol table: \", rev_st)\n",
    "    return cir"
   ]
  },
  {
   "cell_type": "code",
   "execution_count": 5,
   "metadata": {},
   "outputs": [],
   "source": [
    "def create_miter(impl_cir, spec_cir):\n",
    "    miter = pysmtsol.Xor(impl_cir, spec_cir)\n",
    "    return miter"
   ]
  },
  {
   "cell_type": "code",
   "execution_count": 6,
   "metadata": {},
   "outputs": [],
   "source": [
    "def check_sat(miter):\n",
    "    sat_res = pysmtsol.is_sat(miter)\n",
    "    return sat_res"
   ]
  },
  {
   "cell_type": "code",
   "execution_count": 7,
   "metadata": {},
   "outputs": [],
   "source": [
    "def create_intermediate_miters(circuit, out1, out2):\n",
    "    impl_cir = read_dimacs_bench(circuit, out1)\n",
    "    spec_cir = read_dimacs_bench(circuit, out2)\n",
    "    miter_cir = create_miter(impl_cir, spec_cir)\n",
    "    return miter_cir\n",
    "\n",
    "    \n",
    "def equivalence_check(circuit, bench1, bench2, out):\n",
    "    # print(\"bench1 : \", bench1, \"  bench2 :\", bench2)\n",
    "    miter_lst = [create_intermediate_miters(circuit, bench1[i], bench2[i]) for i in range(out)]\n",
    "    # print(\"miter_out: \", miter_lst)\n",
    "    miter_or = pysmtsol.Or(miter_lst)    \n",
    "\n",
    "    # print(\"miter : \", miter_or)\n",
    "\n",
    "    sat_res = check_sat(miter_or)\n",
    "    # print(\"sat_res: \", sat_res)\n",
    "    if sat_res: print(f\"{bench1} and {bench2} are SAT --> UNEQUAL CIRCUITS\")\n",
    "    else: print(f\"{bench1} and {bench2} are UNSAT --> EQUIVALENT CIRCUITS\")\n",
    "    return sat_res"
   ]
  },
  {
   "cell_type": "code",
   "execution_count": 8,
   "metadata": {},
   "outputs": [
    {
     "name": "stdout",
     "output_type": "stream",
     "text": [
      "['sum1'] and ['cout2'] are SAT --> UNEQUAL CIRCUITS\n"
     ]
    }
   ],
   "source": [
    "circuit = \"fullAdder\"\n",
    "circuit1 = [\"sum1\"]\n",
    "circuit2 = [\"cout2\"]\n",
    "out = 1\n",
    "res = equivalence_check(circuit, circuit1, circuit2, out)\n",
    " \n"
   ]
  },
  {
   "cell_type": "code",
   "execution_count": 9,
   "metadata": {},
   "outputs": [],
   "source": [
    "def circuit2dimacs(bool_formula):\n",
    "    ex = bool_formula.to_cnf()\n",
    "    exp, dimacs_bench = eda.expr2dimacscnf(ex)\n",
    "    # print(\"dimacs : \", dimacs_bench)\n",
    "    return dimacs_bench\n",
    "\n",
    "def write_dimacs(dimacs_bench, circuit, benchname):\n",
    "    f = open(f\"cnf_bench/{circuit}/{benchname}.cnf\", \"w\")\n",
    "    f.write(str(dimacs_bench))\n",
    "    f.close()\n",
    "\n",
    "def write_circuit(bool_formulae, circuit, benchnames):\n",
    "    for i,formula in enumerate(bool_formulae):\n",
    "        dimacs_ = circuit2dimacs(formula)\n",
    "        write_dimacs(dimacs_, circuit, benchnames[i])\n",
    "        \n"
   ]
  },
  {
   "cell_type": "code",
   "execution_count": null,
   "metadata": {},
   "outputs": [],
   "source": []
  },
  {
   "cell_type": "markdown",
   "metadata": {},
   "source": [
    "# Test - AND gate and its NAND gate equivalent"
   ]
  },
  {
   "cell_type": "code",
   "execution_count": 10,
   "metadata": {},
   "outputs": [
    {
     "name": "stdout",
     "output_type": "stream",
     "text": [
      "['and1'] and ['nand2'] are UNSAT --> EQUIVALENT CIRCUITS\n"
     ]
    }
   ],
   "source": [
    "## AND and NAND\n",
    "circuit = \"AND-NAND\"\n",
    "a, b = map(eda.exprvar, \"a b\".split())\n",
    "\n",
    "# AND Circuit 1: \n",
    "and1 = eda.And('a', 'b')\n",
    "\n",
    "# NAND Circuit 2: \n",
    "nand2 = eda.Nand(eda.Nand('a','b'), eda.Nand('a','b'))\n",
    "\n",
    "write_circuit([and1, nand2], circuit, [\"and1\",\"nand2\"])\n",
    "\n",
    "## Equivalence check circuit 1 and 2\n",
    "circuit1 = [\"and1\"]\n",
    "circuit2 = [\"nand2\"]\n",
    "out = 1\n",
    "res = equivalence_check(circuit, circuit1, circuit2, out)"
   ]
  },
  {
   "cell_type": "code",
   "execution_count": null,
   "metadata": {},
   "outputs": [],
   "source": []
  },
  {
   "cell_type": "markdown",
   "metadata": {},
   "source": [
    "# Multi-AND"
   ]
  },
  {
   "cell_type": "code",
   "execution_count": 11,
   "metadata": {},
   "outputs": [
    {
     "name": "stdout",
     "output_type": "stream",
     "text": [
      "['mand1'] and ['mand2'] are UNSAT --> EQUIVALENT CIRCUITS\n",
      "['mand2'] and ['mand3'] are SAT --> UNEQUAL CIRCUITS\n",
      "['mand1'] and ['mand3'] are SAT --> UNEQUAL CIRCUITS\n",
      "['mand1'] and ['mand4'] are UNSAT --> EQUIVALENT CIRCUITS\n"
     ]
    }
   ],
   "source": [
    "## Multi-AND\n",
    "circuit = \"Multi-AND\"\n",
    "a, b, c, d = map(eda.exprvar, \"a b c d\".split())\n",
    "\n",
    "# Multi-AND Circuit 1: \n",
    "mand1 = eda.And(eda.And(eda.And('a', 'b'), 'c'), 'd')\n",
    "# mand1 = eda.And('a', 'b')\n",
    "\n",
    "# Multi-AND Circuit 2:\n",
    "mand2 = eda.And(eda.And('a','b'), eda.And('c','d')) \n",
    "\n",
    "# Multi-AND Circuit 3: \n",
    "mand3 = eda.Nand(eda.Nand('a','b'), eda.Nand('c','d'))\n",
    "\n",
    "# Multi-AND Circuit 4: \n",
    "and14 = eda.Nand(eda.Nand('a','b'), eda.Nand('a','b'))\n",
    "and24 = eda.Nand(eda.Nand('c','d'), eda.Nand('c','d'))\n",
    "mand4 = eda.Nand(eda.Nand(and14, and24), eda.Nand(and14, and24))\n",
    "\n",
    "\n",
    "write_circuit([mand1, mand2, mand3, mand4], circuit, [\"mand1\",\"mand2\",\"mand3\",\"mand4\"])\n",
    "\n",
    "## Equivalence check circuit 1 and 2\n",
    "circuit1 = [\"mand1\"]\n",
    "circuit2 = [\"mand2\"]\n",
    "out = 1\n",
    "res = equivalence_check(circuit, circuit1, circuit2, out)\n",
    "\n",
    "## Equivalence check circuit 2 and 3\n",
    "circuit1 = [\"mand2\"]\n",
    "circuit2 = [\"mand3\"]\n",
    "out = 1\n",
    "res = equivalence_check(circuit, circuit1, circuit2, out)\n",
    "\n",
    "## Equivalence check circuit 3 and 1\n",
    "circuit1 = [\"mand1\"]\n",
    "circuit2 = [\"mand3\"]\n",
    "out = 1\n",
    "res = equivalence_check(circuit, circuit1, circuit2, out)\n",
    "\n",
    "## Equivalence check circuit 4 and 1\n",
    "circuit1 = [\"mand1\"]\n",
    "circuit2 = [\"mand4\"]\n",
    "out = 1\n",
    "res = equivalence_check(circuit, circuit1, circuit2, out)"
   ]
  },
  {
   "cell_type": "code",
   "execution_count": null,
   "metadata": {},
   "outputs": [],
   "source": []
  },
  {
   "cell_type": "markdown",
   "metadata": {},
   "source": [
    "# Multi-gate"
   ]
  },
  {
   "cell_type": "code",
   "execution_count": 12,
   "metadata": {},
   "outputs": [
    {
     "name": "stdout",
     "output_type": "stream",
     "text": [
      "['mgate1'] and ['mgate2'] are UNSAT --> EQUIVALENT CIRCUITS\n",
      "['mgate1'] and ['mgate3'] are SAT --> UNEQUAL CIRCUITS\n"
     ]
    }
   ],
   "source": [
    "## Multi-gate\n",
    "circuit = \"Multi-gate\"\n",
    "a, b, c, d = map(eda.exprvar, \"a b c d\".split())\n",
    "\n",
    "# Multi-gate Circuit 1: \n",
    "and11 = eda.And('c','d')\n",
    "mgate1 = eda.Or(eda.And('a', and11), eda.And('b',eda.Not(and11)))\n",
    "\n",
    "# Multi-gate Circuit 2:\n",
    "mgate2 = eda.Xor(eda.And(eda.Xor('a','b'), eda.And('c','d')), 'b') \n",
    "\n",
    "# Multi-gate Circuit 3:\n",
    "mgate3 = eda.Xor(eda.And(eda.Or('a','b'), eda.And('c','d')), 'b')\n",
    "\n",
    "\n",
    "write_circuit([mgate1, mgate2, mgate3], circuit, [\"mgate1\",\"mgate2\",\"mgate3\"])\n",
    "\n",
    "## Equivalence check circuit 1 and 2\n",
    "circuit1 = [\"mgate1\"]\n",
    "circuit2 = [\"mgate2\"]\n",
    "out = 1\n",
    "res = equivalence_check(circuit, circuit1, circuit2, out)\n",
    "\n",
    "## Equivalence check circuit 1 and 3\n",
    "circuit1 = [\"mgate1\"]\n",
    "circuit2 = [\"mgate3\"]\n",
    "out = 1\n",
    "res = equivalence_check(circuit, circuit1, circuit2, out)\n"
   ]
  },
  {
   "cell_type": "code",
   "execution_count": null,
   "metadata": {},
   "outputs": [],
   "source": []
  },
  {
   "cell_type": "markdown",
   "metadata": {},
   "source": [
    "# Multi-output circuits"
   ]
  },
  {
   "cell_type": "code",
   "execution_count": 17,
   "metadata": {},
   "outputs": [
    {
     "name": "stdout",
     "output_type": "stream",
     "text": [
      "['mout1_1', 'mout1_2'] and ['mout2_1', 'mout2_2'] are UNSAT --> EQUIVALENT CIRCUITS\n",
      "['mout3_1', 'mout3_2'] and ['mout4_1', 'mout4_2'] are SAT --> UNEQUAL CIRCUITS\n"
     ]
    }
   ],
   "source": [
    "## Multi-out\n",
    "circuit = \"Multi-out\"\n",
    "a, b, c, d = map(eda.exprvar, \"a b c d\".split())\n",
    "\n",
    "# Multi-out Circuit 1: \n",
    "nand11 = eda.Nand('b','c')\n",
    "nand21 = eda.Nand('c','d')\n",
    "nand31 = eda.Nand(nand11, nand21)\n",
    "mout1_1 = eda.Nand('a',nand31)\n",
    "mout1_2 = nand21\n",
    "\n",
    "# Multi-out Circuit 2:\n",
    "inter2 = eda.Or(eda.And('b','c'),eda.And('c','d'))\n",
    "mout2_1 = eda.Nand('a', inter2)\n",
    "mout2_2 = eda.Nand(inter2, 'd') \n",
    "\n",
    "# Multi-out Circuit 3:\n",
    "mout3_1 = eda.And(eda.And('a','b'), eda.And('c','d'))\n",
    "mout3_2 = eda.Or(eda.Or('b','c'), eda.And('c','d'))\n",
    "\n",
    "# Multi-out Circuit 4:\n",
    "mout4_1 = eda.Not(eda.And('c','d'))\n",
    "mout4_2 = eda.Or(eda.Or('b','c'), eda.And('c','d'))\n",
    "\n",
    "write_circuit([mout1_1, mout1_2, mout2_1, mout2_2], circuit, [\"mout1_1\",\"mout1_2\", \"mout2_1\",\"mout2_2\"])\n",
    "write_circuit([mout3_1, mout3_2, mout4_1, mout4_2], circuit, [\"mout3_1\",\"mout3_2\", \"mout4_1\",\"mout4_2\"])\n",
    "\n",
    "## Equivalence check circuit 1 and 2\n",
    "circuit1 = [\"mout1_1\",\"mout1_2\"]\n",
    "circuit2 = [\"mout2_1\",\"mout2_2\"]\n",
    "out = 2\n",
    "res = equivalence_check(circuit, circuit1, circuit2, out)\n",
    "\n",
    "## Equivalence check circuit 3 and 4\n",
    "circuit1 = [\"mout3_1\",\"mout3_2\"]\n",
    "circuit2 = [\"mout4_1\",\"mout4_2\"]\n",
    "out = 2\n",
    "res = equivalence_check(circuit, circuit1, circuit2, out)"
   ]
  },
  {
   "cell_type": "code",
   "execution_count": null,
   "metadata": {},
   "outputs": [],
   "source": []
  },
  {
   "cell_type": "markdown",
   "metadata": {},
   "source": [
    "# Full Adder"
   ]
  },
  {
   "cell_type": "code",
   "execution_count": 15,
   "metadata": {},
   "outputs": [
    {
     "name": "stdout",
     "output_type": "stream",
     "text": [
      "['sum1', 'cout1'] and ['sum2', 'cout2'] are UNSAT --> EQUIVALENT CIRCUITS\n",
      "['sum2', 'cout2'] and ['sum3', 'cout3'] are SAT --> UNEQUAL CIRCUITS\n",
      "['sum1', 'cout1'] and ['sum3', 'cout3'] are SAT --> UNEQUAL CIRCUITS\n"
     ]
    }
   ],
   "source": [
    "## Adder\n",
    "circuit = \"fullAdder\"\n",
    "a, b, ci = map(eda.exprvar, \"a b ci\".split())\n",
    "\n",
    "# Adder Circuit 1: \n",
    "sum1 =  eda.Xor('a', 'b', 'ci')\n",
    "cout1 = eda.Or(eda.And('a', 'b'), eda.And('a', 'ci'), eda.And('b', 'ci'))\n",
    "\n",
    "# Adder Circuit 2: \n",
    "sum2 = ~a & ~b & ci | ~a & b & ~ci | a & ~b & ~ci | a & b & ci\n",
    "cout2 = a & b | a & ci | b & ci | a & b & ci\n",
    "\n",
    "# Adder Circuit 3: \n",
    "sum3 = ~a & ~b & ci | ~a & b & ~ci | a & ~b & ~ci | a & b & ci\n",
    "cout3 = a & b | a & ci | b & ci | a | b | ci\n",
    "\n",
    "write_circuit([sum1, cout1, sum2, cout2, sum3, cout3], circuit, [\"sum1\",\"cout1\",\"sum2\",\"cout2\",\"sum3\",\"cout3\"])\n",
    "\n",
    "## Equivalence check adder 1 and 2\n",
    "circuit1 = [\"sum1\",\"cout1\"]\n",
    "circuit2 = [\"sum2\", \"cout2\"]\n",
    "out = 2\n",
    "res = equivalence_check(circuit, circuit1, circuit2, out)\n",
    "\n",
    "## Equivalence check adder 2 and 3\n",
    "circuit1 = [\"sum2\",\"cout2\"]\n",
    "circuit2 = [\"sum3\", \"cout3\"]\n",
    "out = 2\n",
    "res = equivalence_check(circuit, circuit1, circuit2, out)\n",
    "\n",
    "## Equivalence check adder 3 and 1\n",
    "circuit1 = [\"sum1\",\"cout1\"]\n",
    "circuit2 = [\"sum3\", \"cout3\"]\n",
    "out = 2\n",
    "res = equivalence_check(circuit, circuit1, circuit2, out)"
   ]
  },
  {
   "cell_type": "code",
   "execution_count": null,
   "metadata": {},
   "outputs": [],
   "source": []
  },
  {
   "cell_type": "markdown",
   "metadata": {},
   "source": [
    "# 2-bit Multiplier"
   ]
  },
  {
   "cell_type": "code",
   "execution_count": 24,
   "metadata": {},
   "outputs": [
    {
     "name": "stdout",
     "output_type": "stream",
     "text": [
      "['out0_1', 'out1_1', 'out2_1', 'out3_1'] and ['out0_2', 'out1_2', 'out2_2', 'out3_2'] are UNSAT --> EQUIVALENT CIRCUITS\n"
     ]
    }
   ],
   "source": [
    "# 2-bit Multiplier\n",
    "## Multiplier\n",
    "circuit = \"Multiplier\"\n",
    "a0, b0, a1, b1 = map(eda.exprvar, \"a0 b0 a1 b1\".split())\n",
    "\n",
    "# Mutliplier Circuit 1: \n",
    "and11 = eda.And('a0','b1')\n",
    "and21 = eda.And('b0', 'a1')\n",
    "and31 = eda.And('a1','b1')\n",
    "\n",
    "out0_1 = eda.And('a0', 'b0')\n",
    "out1_1 = eda.Xor(and11, and21)\n",
    "out2_1 = eda.Xor(and31, eda.And(and11, and21))\n",
    "out3_1 = eda.And(and31, eda.And(and11, and21))\n",
    "\n",
    "write_circuit([out0_1, out1_1, out2_1, out3_1], circuit, ['out0_1', 'out1_1', 'out2_1', 'out3_1'])\n",
    "\n",
    "# Multiplier Circuit 2: \n",
    "def halfadder(a, b):\n",
    "    sum_ =  eda.Xor(a,b)\n",
    "    carry_ = eda.And(a,b)\n",
    "    return sum_, carry_\n",
    "\n",
    "and12 = eda.And('a0','b1')\n",
    "and22 = eda.And('b0','a1')\n",
    "and32 = eda.And('a1','b1')\n",
    "\n",
    "out0_2 = eda.And('a0', 'b0')\n",
    "out1_2, carry_ = halfadder(and12, and22)\n",
    "out2_2, out3_2 = halfadder(carry_, and32)\n",
    "# out1_2, carry_ = eda.Xor(and12, and22), eda.And(and12, and22)\n",
    "# out2_2, out3_2 = eda.Xor(carry_, and32), eda.And(carry_, and32)\n",
    "\n",
    "\n",
    "write_circuit([out0_2, out1_2, out2_2, out3_2], circuit, ['out0_2', 'out1_2', 'out2_2', 'out3_2'])\n",
    "\n",
    "## Equivalence check adder 1 and 2\n",
    "circuit1 = ['out0_1', 'out1_1', 'out2_1', 'out3_1']\n",
    "circuit2 = ['out0_2', 'out1_2', 'out2_2', 'out3_2']\n",
    "out = 4\n",
    "res = equivalence_check(circuit, circuit1, circuit2, out)"
   ]
  },
  {
   "cell_type": "code",
   "execution_count": null,
   "metadata": {},
   "outputs": [],
   "source": []
  },
  {
   "cell_type": "markdown",
   "metadata": {},
   "source": [
    "# 4-bit Equality Comparator"
   ]
  },
  {
   "cell_type": "code",
   "execution_count": 27,
   "metadata": {},
   "outputs": [
    {
     "name": "stdout",
     "output_type": "stream",
     "text": [
      "['comp1'] and ['comp2'] are UNSAT --> EQUIVALENT CIRCUITS\n"
     ]
    }
   ],
   "source": [
    "# Comparator\n",
    "circuit = \"Comparator\"\n",
    "a0, a1, a2, a3, b0, b1, b2, b3 = map(eda.exprvar, \"a0 a1 a2 a3 b0 b1 b2 b3\".split())\n",
    "\n",
    "# Comparator Circuit 1: \n",
    "comp1 = eda.And(eda.Xnor('a0','b0'), eda.Xnor('a1','b1'), eda.Xnor('a2','b2'), eda.Xnor('a3','b3'))\n",
    "\n",
    "\n",
    "# Comparator Circuit 2: \n",
    "comp2 = eda.Nor(eda.Or(eda.Xor('a0','b0'),eda.Xor('a1','b1')), eda.Or(eda.Xor('a2','b2'),eda.Xor('a3','b3')))\n",
    "\n",
    "\n",
    "write_circuit([comp1, comp2], circuit, ['comp1', 'comp2'])\n",
    "\n",
    "## Equivalence check adder 1 and 2\n",
    "circuit1 = ['comp1']\n",
    "circuit2 = ['comp2']\n",
    "out = 1\n",
    "res = equivalence_check(circuit, circuit1, circuit2, out)"
   ]
  },
  {
   "cell_type": "code",
   "execution_count": null,
   "metadata": {},
   "outputs": [],
   "source": []
  },
  {
   "cell_type": "code",
   "execution_count": null,
   "metadata": {},
   "outputs": [],
   "source": []
  },
  {
   "cell_type": "code",
   "execution_count": null,
   "metadata": {},
   "outputs": [],
   "source": []
  },
  {
   "cell_type": "code",
   "execution_count": 29,
   "metadata": {},
   "outputs": [],
   "source": [
    "a, b, c = map(eda.exprvar, 'abc')\n",
    "f1 = eda.Or(eda.And(~a, ~b, ~c), eda.And(~a, ~b, c), eda.And(a, ~b, c), eda.And(a, b, c), eda.And(a, b, ~c))"
   ]
  },
  {
   "cell_type": "code",
   "execution_count": 30,
   "metadata": {},
   "outputs": [],
   "source": [
    "d = circuit2dimacs(f1)\n",
    "write_dimacs(\"test5.cnf\", d)"
   ]
  },
  {
   "cell_type": "code",
   "execution_count": 5,
   "metadata": {},
   "outputs": [],
   "source": [
    "# a, b, c = map(exprvar, 'abc')\n",
    "# f1 = Or(And(~a, ~b, ~c), And(~a, ~b, c), And(a, ~b, c), And(a, b, c), And(a, b, ~c))\n",
    "# ex = f1.to_cnf()\n",
    "# exp, dimacs = expr2dimacscnf(ex)\n",
    "# print(dimacs)\n",
    "# f2 = Or(And(~a, ~b, c), And(a, ~b, c), And(a, b, c), And(a, b, ~c))\n",
    "# ex = f2.to_cnf()\n",
    "# exp, dimacs = expr2dimacscnf(ex)\n",
    "# print(dimacs)"
   ]
  },
  {
   "cell_type": "code",
   "execution_count": null,
   "metadata": {},
   "outputs": [],
   "source": [
    "# vars_cnt, clauses, comments = read_dimacs('cnf_bench/test1.cnf')\n",
    "\n",
    "# res, rev_st = dimacs.dimacs_to_pysmt(vars_cnt, clauses, comments)\n",
    "# # varA = Symbol(\"A\")\n",
    "# f = Xor(res, res)\n",
    "\n",
    "# sat_res = is_sat(f)\n",
    "# # assert sat_res # SAT\n",
    "# print(\"dimacs := %s is SAT? %s\" % (res, sat_res))\n",
    "# print(\"if UNSAT, given circuits are equal\")\n",
    "# # assert not sat_res # UNSAT"
   ]
  },
  {
   "cell_type": "code",
   "execution_count": null,
   "metadata": {},
   "outputs": [],
   "source": []
  },
  {
   "cell_type": "code",
   "execution_count": null,
   "metadata": {},
   "outputs": [],
   "source": [
    "\n"
   ]
  },
  {
   "cell_type": "code",
   "execution_count": null,
   "metadata": {},
   "outputs": [],
   "source": []
  },
  {
   "cell_type": "code",
   "execution_count": null,
   "metadata": {},
   "outputs": [],
   "source": []
  },
  {
   "cell_type": "code",
   "execution_count": null,
   "metadata": {},
   "outputs": [],
   "source": []
  }
 ],
 "metadata": {
  "interpreter": {
   "hash": "31f2aee4e71d21fbe5cf8b01ff0e069b9275f58929596ceb00d14d90e3e16cd6"
  },
  "kernelspec": {
   "display_name": "Python 3.8.10 64-bit",
   "language": "python",
   "name": "python3"
  },
  "language_info": {
   "codemirror_mode": {
    "name": "ipython",
    "version": 3
   },
   "file_extension": ".py",
   "mimetype": "text/x-python",
   "name": "python",
   "nbconvert_exporter": "python",
   "pygments_lexer": "ipython3",
   "version": "3.8.10"
  },
  "orig_nbformat": 4
 },
 "nbformat": 4,
 "nbformat_minor": 2
}
